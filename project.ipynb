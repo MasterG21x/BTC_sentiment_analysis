{
 "cells": [
  {
   "cell_type": "code",
   "execution_count": 86,
   "id": "fdb85851",
   "metadata": {},
   "outputs": [],
   "source": [
    "import requests\n",
    "import pandas as pd\n",
    "import matplotlib.pyplot as plt \n",
    "import time"
   ]
  },
  {
   "cell_type": "code",
   "execution_count": 87,
   "id": "33eb1583",
   "metadata": {},
   "outputs": [
    {
     "ename": "NameError",
     "evalue": "name 'YOUR_API' is not defined",
     "output_type": "error",
     "traceback": [
      "\u001b[31m---------------------------------------------------------------------------\u001b[39m",
      "\u001b[31mNameError\u001b[39m                                 Traceback (most recent call last)",
      "\u001b[36mCell\u001b[39m\u001b[36m \u001b[39m\u001b[32mIn[87]\u001b[39m\u001b[32m, line 5\u001b[39m\n\u001b[32m      2\u001b[39m rows =[]\n\u001b[32m      3\u001b[39m \u001b[38;5;28;01mwhile\u001b[39;00m \u001b[38;5;28;01mTrue\u001b[39;00m:\n\u001b[32m      4\u001b[39m     params = {\n\u001b[32m----> \u001b[39m\u001b[32m5\u001b[39m     \u001b[33m\"\u001b[39m\u001b[33mauth_token\u001b[39m\u001b[33m\"\u001b[39m: \u001b[43mYOUR_API\u001b[49m,\n\u001b[32m      6\u001b[39m     \u001b[33m\"\u001b[39m\u001b[33mcurrencies\u001b[39m\u001b[33m\"\u001b[39m: \u001b[33m\"\u001b[39m\u001b[33mBTC\u001b[39m\u001b[33m\"\u001b[39m,\n\u001b[32m      7\u001b[39m     \u001b[33m\"\u001b[39m\u001b[33mkind\u001b[39m\u001b[33m\"\u001b[39m: \u001b[33m\"\u001b[39m\u001b[33mnews\u001b[39m\u001b[33m\"\u001b[39m,\n\u001b[32m      8\u001b[39m     \u001b[33m\"\u001b[39m\u001b[33mpublic\u001b[39m\u001b[33m\"\u001b[39m: \u001b[33m\"\u001b[39m\u001b[33mtrue\u001b[39m\u001b[33m\"\u001b[39m,\n\u001b[32m      9\u001b[39m     \u001b[33m\"\u001b[39m\u001b[33mpage\u001b[39m\u001b[33m\"\u001b[39m : page\n\u001b[32m     10\u001b[39m     }\n\u001b[32m     11\u001b[39m     response = requests.get(\u001b[33m\"\u001b[39m\u001b[33mhttps://cryptopanic.com/api/developer/v2/posts/\u001b[39m\u001b[33m\"\u001b[39m, params=params)\n\u001b[32m     12\u001b[39m     \u001b[38;5;28;01mif\u001b[39;00m response.status_code == \u001b[32m200\u001b[39m:\n",
      "\u001b[31mNameError\u001b[39m: name 'YOUR_API' is not defined"
     ]
    }
   ],
   "source": [
    "page = 1\n",
    "rows =[]\n",
    "while True:\n",
    "    params = {\n",
    "    \"auth_token\": YOUR_API,\n",
    "    \"currencies\": \"BTC\",\n",
    "    \"kind\": \"news\",\n",
    "    \"public\": \"true\",\n",
    "    \"page\" : page\n",
    "    }\n",
    "    response = requests.get(\"https://cryptopanic.com/api/developer/v2/posts/\", params=params)\n",
    "    if response.status_code == 200:\n",
    "        data = response.json()\n",
    "        print(data)\n",
    "        if not data[\"results\"]:\n",
    "            break\n",
    "        for result in data[\"results\"]:\n",
    "            rows.append({\n",
    "                \"date\": result['published_at'],\n",
    "                \"title\": result['title'],\n",
    "                \"description\": result['description']\n",
    "            })\n",
    "    else:\n",
    "        print(f\"Error: {response.status_code}\")\n",
    "    page += 1\n",
    "    time.sleep(0.5)\n",
    "    \n",
    "df = pd.DataFrame(rows)\n",
    "print(df.head())"
   ]
  },
  {
   "cell_type": "markdown",
   "id": "54b0164e",
   "metadata": {},
   "source": [
    "I couldnt use it for my project because i had only demo account. I decided to use other dataset."
   ]
  },
  {
   "cell_type": "code",
   "execution_count": null,
   "id": "d5ecec5e",
   "metadata": {},
   "outputs": [],
   "source": [
    "news_currency = pd.read_csv(\"path/to/local/csv\")"
   ]
  },
  {
   "cell_type": "code",
   "execution_count": null,
   "id": "c72ced96",
   "metadata": {},
   "outputs": [],
   "source": [
    "currency = pd.read_csv(\"path/to/local/csv\")"
   ]
  },
  {
   "cell_type": "code",
   "execution_count": 90,
   "id": "2f8cd756",
   "metadata": {},
   "outputs": [
    {
     "data": {
      "text/html": [
       "<div>\n",
       "<style scoped>\n",
       "    .dataframe tbody tr th:only-of-type {\n",
       "        vertical-align: middle;\n",
       "    }\n",
       "\n",
       "    .dataframe tbody tr th {\n",
       "        vertical-align: top;\n",
       "    }\n",
       "\n",
       "    .dataframe thead th {\n",
       "        text-align: right;\n",
       "    }\n",
       "</style>\n",
       "<table border=\"1\" class=\"dataframe\">\n",
       "  <thead>\n",
       "    <tr style=\"text-align: right;\">\n",
       "      <th></th>\n",
       "      <th>id</th>\n",
       "      <th>code</th>\n",
       "      <th>name</th>\n",
       "    </tr>\n",
       "  </thead>\n",
       "  <tbody>\n",
       "    <tr>\n",
       "      <th>0</th>\n",
       "      <td>91</td>\n",
       "      <td>BTC</td>\n",
       "      <td>Bitcoin</td>\n",
       "    </tr>\n",
       "    <tr>\n",
       "      <th>1</th>\n",
       "      <td>92</td>\n",
       "      <td>ETH</td>\n",
       "      <td>Ethereum</td>\n",
       "    </tr>\n",
       "    <tr>\n",
       "      <th>2</th>\n",
       "      <td>93</td>\n",
       "      <td>USDT</td>\n",
       "      <td>Tether</td>\n",
       "    </tr>\n",
       "    <tr>\n",
       "      <th>3</th>\n",
       "      <td>94</td>\n",
       "      <td>USDC</td>\n",
       "      <td>USD Coin</td>\n",
       "    </tr>\n",
       "    <tr>\n",
       "      <th>4</th>\n",
       "      <td>95</td>\n",
       "      <td>BNB</td>\n",
       "      <td>BNB</td>\n",
       "    </tr>\n",
       "  </tbody>\n",
       "</table>\n",
       "</div>"
      ],
      "text/plain": [
       "   id  code      name\n",
       "0  91   BTC   Bitcoin\n",
       "1  92   ETH  Ethereum\n",
       "2  93  USDT    Tether\n",
       "3  94  USDC  USD Coin\n",
       "4  95   BNB       BNB"
      ]
     },
     "execution_count": 90,
     "metadata": {},
     "output_type": "execute_result"
    }
   ],
   "source": [
    "currency.head()"
   ]
  },
  {
   "cell_type": "code",
   "execution_count": 91,
   "id": "90c7e87b",
   "metadata": {},
   "outputs": [
    {
     "data": {
      "text/html": [
       "<div>\n",
       "<style scoped>\n",
       "    .dataframe tbody tr th:only-of-type {\n",
       "        vertical-align: middle;\n",
       "    }\n",
       "\n",
       "    .dataframe tbody tr th {\n",
       "        vertical-align: top;\n",
       "    }\n",
       "\n",
       "    .dataframe thead th {\n",
       "        text-align: right;\n",
       "    }\n",
       "</style>\n",
       "<table border=\"1\" class=\"dataframe\">\n",
       "  <thead>\n",
       "    <tr style=\"text-align: right;\">\n",
       "      <th></th>\n",
       "      <th>newsId</th>\n",
       "      <th>currencyId</th>\n",
       "    </tr>\n",
       "  </thead>\n",
       "  <tbody>\n",
       "    <tr>\n",
       "      <th>0</th>\n",
       "      <td>887</td>\n",
       "      <td>91</td>\n",
       "    </tr>\n",
       "    <tr>\n",
       "      <th>1</th>\n",
       "      <td>892</td>\n",
       "      <td>91</td>\n",
       "    </tr>\n",
       "    <tr>\n",
       "      <th>2</th>\n",
       "      <td>900</td>\n",
       "      <td>91</td>\n",
       "    </tr>\n",
       "    <tr>\n",
       "      <th>3</th>\n",
       "      <td>911</td>\n",
       "      <td>91</td>\n",
       "    </tr>\n",
       "    <tr>\n",
       "      <th>4</th>\n",
       "      <td>912</td>\n",
       "      <td>91</td>\n",
       "    </tr>\n",
       "  </tbody>\n",
       "</table>\n",
       "</div>"
      ],
      "text/plain": [
       "   newsId  currencyId\n",
       "0     887          91\n",
       "1     892          91\n",
       "2     900          91\n",
       "3     911          91\n",
       "4     912          91"
      ]
     },
     "execution_count": 91,
     "metadata": {},
     "output_type": "execute_result"
    }
   ],
   "source": [
    "news_currency.head()"
   ]
  },
  {
   "cell_type": "code",
   "execution_count": 92,
   "id": "220d6b10",
   "metadata": {},
   "outputs": [],
   "source": [
    "nessesary_newsID = news_currency.loc[news_currency['currencyId']==91]"
   ]
  },
  {
   "cell_type": "code",
   "execution_count": null,
   "id": "532a44f1",
   "metadata": {},
   "outputs": [],
   "source": [
    "df = pd.read_csv(\"path/to/local/csv\")"
   ]
  },
  {
   "cell_type": "code",
   "execution_count": 94,
   "id": "3d23c124",
   "metadata": {},
   "outputs": [
    {
     "data": {
      "text/html": [
       "<div>\n",
       "<style scoped>\n",
       "    .dataframe tbody tr th:only-of-type {\n",
       "        vertical-align: middle;\n",
       "    }\n",
       "\n",
       "    .dataframe tbody tr th {\n",
       "        vertical-align: top;\n",
       "    }\n",
       "\n",
       "    .dataframe thead th {\n",
       "        text-align: right;\n",
       "    }\n",
       "</style>\n",
       "<table border=\"1\" class=\"dataframe\">\n",
       "  <thead>\n",
       "    <tr style=\"text-align: right;\">\n",
       "      <th></th>\n",
       "      <th>id</th>\n",
       "      <th>title</th>\n",
       "      <th>description</th>\n",
       "      <th>sourceId</th>\n",
       "      <th>sourceUrl</th>\n",
       "      <th>newsDatetime</th>\n",
       "      <th>url</th>\n",
       "      <th>negative</th>\n",
       "      <th>positive</th>\n",
       "      <th>important</th>\n",
       "      <th>liked</th>\n",
       "      <th>disliked</th>\n",
       "      <th>lol</th>\n",
       "      <th>toxic</th>\n",
       "      <th>saved</th>\n",
       "      <th>comments</th>\n",
       "    </tr>\n",
       "  </thead>\n",
       "  <tbody>\n",
       "    <tr>\n",
       "      <th>0</th>\n",
       "      <td>873</td>\n",
       "      <td>ApeCoin Community Votes to Stay on Ethereum</td>\n",
       "      <td>NaN</td>\n",
       "      <td>2</td>\n",
       "      <td>NaN</td>\n",
       "      <td>2022-06-09 06:57:15</td>\n",
       "      <td>https://cryptopanic.com/news/15444990/ApeCoin-...</td>\n",
       "      <td>0</td>\n",
       "      <td>0</td>\n",
       "      <td>0</td>\n",
       "      <td>0</td>\n",
       "      <td>0</td>\n",
       "      <td>0</td>\n",
       "      <td>0</td>\n",
       "      <td>0</td>\n",
       "      <td>0</td>\n",
       "    </tr>\n",
       "    <tr>\n",
       "      <th>1</th>\n",
       "      <td>875</td>\n",
       "      <td>Terraform Labs Co-Founder Denies Accusations o...</td>\n",
       "      <td>NaN</td>\n",
       "      <td>2</td>\n",
       "      <td>NaN</td>\n",
       "      <td>2022-06-09 06:03:33</td>\n",
       "      <td>https://cryptopanic.com/news/15443520/Terrafor...</td>\n",
       "      <td>0</td>\n",
       "      <td>0</td>\n",
       "      <td>0</td>\n",
       "      <td>1</td>\n",
       "      <td>0</td>\n",
       "      <td>0</td>\n",
       "      <td>0</td>\n",
       "      <td>0</td>\n",
       "      <td>0</td>\n",
       "    </tr>\n",
       "    <tr>\n",
       "      <th>2</th>\n",
       "      <td>876</td>\n",
       "      <td>Anchor dev claims he warned Do Kwon over unsus...</td>\n",
       "      <td>NaN</td>\n",
       "      <td>7</td>\n",
       "      <td>NaN</td>\n",
       "      <td>2022-06-09 05:39:22</td>\n",
       "      <td>https://cryptopanic.com/news/15442676/Anchor-d...</td>\n",
       "      <td>1</td>\n",
       "      <td>0</td>\n",
       "      <td>1</td>\n",
       "      <td>0</td>\n",
       "      <td>0</td>\n",
       "      <td>0</td>\n",
       "      <td>0</td>\n",
       "      <td>0</td>\n",
       "      <td>0</td>\n",
       "    </tr>\n",
       "    <tr>\n",
       "      <th>3</th>\n",
       "      <td>877</td>\n",
       "      <td>With 12 Key Measures of Prices, Truflation’s R...</td>\n",
       "      <td>NaN</td>\n",
       "      <td>11</td>\n",
       "      <td>NaN</td>\n",
       "      <td>2022-06-09 05:32:52</td>\n",
       "      <td>https://cryptopanic.com/news/15442724/With-12-...</td>\n",
       "      <td>0</td>\n",
       "      <td>0</td>\n",
       "      <td>0</td>\n",
       "      <td>0</td>\n",
       "      <td>0</td>\n",
       "      <td>0</td>\n",
       "      <td>0</td>\n",
       "      <td>0</td>\n",
       "      <td>0</td>\n",
       "    </tr>\n",
       "    <tr>\n",
       "      <th>4</th>\n",
       "      <td>878</td>\n",
       "      <td>'Father' of the Metaverse Neal Stephenson laun...</td>\n",
       "      <td>NaN</td>\n",
       "      <td>7</td>\n",
       "      <td>NaN</td>\n",
       "      <td>2022-06-09 05:28:31</td>\n",
       "      <td>https://cryptopanic.com/news/15442350/Father-o...</td>\n",
       "      <td>0</td>\n",
       "      <td>1</td>\n",
       "      <td>0</td>\n",
       "      <td>2</td>\n",
       "      <td>0</td>\n",
       "      <td>0</td>\n",
       "      <td>0</td>\n",
       "      <td>0</td>\n",
       "      <td>0</td>\n",
       "    </tr>\n",
       "  </tbody>\n",
       "</table>\n",
       "</div>"
      ],
      "text/plain": [
       "    id                                              title description  \\\n",
       "0  873        ApeCoin Community Votes to Stay on Ethereum         NaN   \n",
       "1  875  Terraform Labs Co-Founder Denies Accusations o...         NaN   \n",
       "2  876  Anchor dev claims he warned Do Kwon over unsus...         NaN   \n",
       "3  877  With 12 Key Measures of Prices, Truflation’s R...         NaN   \n",
       "4  878  'Father' of the Metaverse Neal Stephenson laun...         NaN   \n",
       "\n",
       "   sourceId sourceUrl         newsDatetime  \\\n",
       "0         2       NaN  2022-06-09 06:57:15   \n",
       "1         2       NaN  2022-06-09 06:03:33   \n",
       "2         7       NaN  2022-06-09 05:39:22   \n",
       "3        11       NaN  2022-06-09 05:32:52   \n",
       "4         7       NaN  2022-06-09 05:28:31   \n",
       "\n",
       "                                                 url  negative  positive  \\\n",
       "0  https://cryptopanic.com/news/15444990/ApeCoin-...         0         0   \n",
       "1  https://cryptopanic.com/news/15443520/Terrafor...         0         0   \n",
       "2  https://cryptopanic.com/news/15442676/Anchor-d...         1         0   \n",
       "3  https://cryptopanic.com/news/15442724/With-12-...         0         0   \n",
       "4  https://cryptopanic.com/news/15442350/Father-o...         0         1   \n",
       "\n",
       "   important  liked  disliked  lol  toxic  saved  comments  \n",
       "0          0      0         0    0      0      0         0  \n",
       "1          0      1         0    0      0      0         0  \n",
       "2          1      0         0    0      0      0         0  \n",
       "3          0      0         0    0      0      0         0  \n",
       "4          0      2         0    0      0      0         0  "
      ]
     },
     "execution_count": 94,
     "metadata": {},
     "output_type": "execute_result"
    }
   ],
   "source": [
    "df.head()"
   ]
  },
  {
   "cell_type": "code",
   "execution_count": 95,
   "id": "b63fa9e4",
   "metadata": {},
   "outputs": [],
   "source": [
    "df_btc = df[df['id'].isin(nessesary_newsID['newsId'])]"
   ]
  },
  {
   "cell_type": "code",
   "execution_count": 96,
   "id": "ae7ef0ab",
   "metadata": {},
   "outputs": [
    {
     "data": {
      "text/html": [
       "<div>\n",
       "<style scoped>\n",
       "    .dataframe tbody tr th:only-of-type {\n",
       "        vertical-align: middle;\n",
       "    }\n",
       "\n",
       "    .dataframe tbody tr th {\n",
       "        vertical-align: top;\n",
       "    }\n",
       "\n",
       "    .dataframe thead th {\n",
       "        text-align: right;\n",
       "    }\n",
       "</style>\n",
       "<table border=\"1\" class=\"dataframe\">\n",
       "  <thead>\n",
       "    <tr style=\"text-align: right;\">\n",
       "      <th></th>\n",
       "      <th>id</th>\n",
       "      <th>title</th>\n",
       "      <th>description</th>\n",
       "      <th>sourceId</th>\n",
       "      <th>sourceUrl</th>\n",
       "      <th>newsDatetime</th>\n",
       "      <th>url</th>\n",
       "      <th>negative</th>\n",
       "      <th>positive</th>\n",
       "      <th>important</th>\n",
       "      <th>liked</th>\n",
       "      <th>disliked</th>\n",
       "      <th>lol</th>\n",
       "      <th>toxic</th>\n",
       "      <th>saved</th>\n",
       "      <th>comments</th>\n",
       "    </tr>\n",
       "  </thead>\n",
       "  <tbody>\n",
       "    <tr>\n",
       "      <th>12</th>\n",
       "      <td>887</td>\n",
       "      <td>TA: Bitcoin Stuck In Key Range, Why A Major Br...</td>\n",
       "      <td>NaN</td>\n",
       "      <td>11</td>\n",
       "      <td>NaN</td>\n",
       "      <td>2022-06-09 03:08:36</td>\n",
       "      <td>https://cryptopanic.com/news/15442102/TA-Bitco...</td>\n",
       "      <td>1</td>\n",
       "      <td>0</td>\n",
       "      <td>0</td>\n",
       "      <td>0</td>\n",
       "      <td>0</td>\n",
       "      <td>0</td>\n",
       "      <td>0</td>\n",
       "      <td>0</td>\n",
       "      <td>0</td>\n",
       "    </tr>\n",
       "    <tr>\n",
       "      <th>17</th>\n",
       "      <td>892</td>\n",
       "      <td>Bitcoin Trading Can Become Easier if You Follo...</td>\n",
       "      <td>NaN</td>\n",
       "      <td>12</td>\n",
       "      <td>NaN</td>\n",
       "      <td>2022-06-09 02:40:00</td>\n",
       "      <td>https://cryptopanic.com/news/15442064/Bitcoin-...</td>\n",
       "      <td>0</td>\n",
       "      <td>0</td>\n",
       "      <td>0</td>\n",
       "      <td>0</td>\n",
       "      <td>0</td>\n",
       "      <td>0</td>\n",
       "      <td>0</td>\n",
       "      <td>1</td>\n",
       "      <td>0</td>\n",
       "    </tr>\n",
       "    <tr>\n",
       "      <th>24</th>\n",
       "      <td>900</td>\n",
       "      <td>Gillibrand and Lummis state that most altcoins...</td>\n",
       "      <td>NaN</td>\n",
       "      <td>7</td>\n",
       "      <td>NaN</td>\n",
       "      <td>2022-06-09 01:15:34</td>\n",
       "      <td>https://cryptopanic.com/news/15441916/Gillibra...</td>\n",
       "      <td>0</td>\n",
       "      <td>1</td>\n",
       "      <td>1</td>\n",
       "      <td>1</td>\n",
       "      <td>0</td>\n",
       "      <td>0</td>\n",
       "      <td>0</td>\n",
       "      <td>1</td>\n",
       "      <td>1</td>\n",
       "    </tr>\n",
       "    <tr>\n",
       "      <th>32</th>\n",
       "      <td>911</td>\n",
       "      <td>U.S. Macro Pressure Responsible For Entire Bit...</td>\n",
       "      <td>There have been multiple sell-off trends recor...</td>\n",
       "      <td>11</td>\n",
       "      <td>https://www.newsbtc.com/news/bitcoin/u-s-macro...</td>\n",
       "      <td>2022-06-08 23:00:19</td>\n",
       "      <td>https://cryptopanic.com/news/15441620/US-Macro...</td>\n",
       "      <td>2</td>\n",
       "      <td>1</td>\n",
       "      <td>0</td>\n",
       "      <td>1</td>\n",
       "      <td>3</td>\n",
       "      <td>1</td>\n",
       "      <td>0</td>\n",
       "      <td>0</td>\n",
       "      <td>0</td>\n",
       "    </tr>\n",
       "    <tr>\n",
       "      <th>33</th>\n",
       "      <td>912</td>\n",
       "      <td>Shock And Awe: Bitcoin Lightning Network Capac...</td>\n",
       "      <td>NaN</td>\n",
       "      <td>5</td>\n",
       "      <td>NaN</td>\n",
       "      <td>2022-06-08 23:00:17</td>\n",
       "      <td>https://cryptopanic.com/news/15441649/Shock-An...</td>\n",
       "      <td>0</td>\n",
       "      <td>1</td>\n",
       "      <td>1</td>\n",
       "      <td>1</td>\n",
       "      <td>0</td>\n",
       "      <td>0</td>\n",
       "      <td>0</td>\n",
       "      <td>0</td>\n",
       "      <td>0</td>\n",
       "    </tr>\n",
       "  </tbody>\n",
       "</table>\n",
       "</div>"
      ],
      "text/plain": [
       "     id                                              title  \\\n",
       "12  887  TA: Bitcoin Stuck In Key Range, Why A Major Br...   \n",
       "17  892  Bitcoin Trading Can Become Easier if You Follo...   \n",
       "24  900  Gillibrand and Lummis state that most altcoins...   \n",
       "32  911  U.S. Macro Pressure Responsible For Entire Bit...   \n",
       "33  912  Shock And Awe: Bitcoin Lightning Network Capac...   \n",
       "\n",
       "                                          description  sourceId  \\\n",
       "12                                                NaN        11   \n",
       "17                                                NaN        12   \n",
       "24                                                NaN         7   \n",
       "32  There have been multiple sell-off trends recor...        11   \n",
       "33                                                NaN         5   \n",
       "\n",
       "                                            sourceUrl         newsDatetime  \\\n",
       "12                                                NaN  2022-06-09 03:08:36   \n",
       "17                                                NaN  2022-06-09 02:40:00   \n",
       "24                                                NaN  2022-06-09 01:15:34   \n",
       "32  https://www.newsbtc.com/news/bitcoin/u-s-macro...  2022-06-08 23:00:19   \n",
       "33                                                NaN  2022-06-08 23:00:17   \n",
       "\n",
       "                                                  url  negative  positive  \\\n",
       "12  https://cryptopanic.com/news/15442102/TA-Bitco...         1         0   \n",
       "17  https://cryptopanic.com/news/15442064/Bitcoin-...         0         0   \n",
       "24  https://cryptopanic.com/news/15441916/Gillibra...         0         1   \n",
       "32  https://cryptopanic.com/news/15441620/US-Macro...         2         1   \n",
       "33  https://cryptopanic.com/news/15441649/Shock-An...         0         1   \n",
       "\n",
       "    important  liked  disliked  lol  toxic  saved  comments  \n",
       "12          0      0         0    0      0      0         0  \n",
       "17          0      0         0    0      0      1         0  \n",
       "24          1      1         0    0      0      1         1  \n",
       "32          0      1         3    1      0      0         0  \n",
       "33          1      1         0    0      0      0         0  "
      ]
     },
     "execution_count": 96,
     "metadata": {},
     "output_type": "execute_result"
    }
   ],
   "source": [
    "df_btc.head()"
   ]
  },
  {
   "cell_type": "code",
   "execution_count": 97,
   "id": "66a6230e",
   "metadata": {},
   "outputs": [
    {
     "data": {
      "text/plain": [
       "26065"
      ]
     },
     "execution_count": 97,
     "metadata": {},
     "output_type": "execute_result"
    }
   ],
   "source": [
    "len(df_btc)"
   ]
  },
  {
   "cell_type": "code",
   "execution_count": 98,
   "id": "3ebab876",
   "metadata": {},
   "outputs": [
    {
     "data": {
      "text/plain": [
       "6848"
      ]
     },
     "execution_count": 98,
     "metadata": {},
     "output_type": "execute_result"
    }
   ],
   "source": [
    "len(df_btc[df_btc['description'].notnull()])"
   ]
  },
  {
   "cell_type": "code",
   "execution_count": 99,
   "id": "69f4df9a",
   "metadata": {},
   "outputs": [
    {
     "data": {
      "text/plain": [
       "np.float64(12.117552273163247)"
      ]
     },
     "execution_count": 99,
     "metadata": {},
     "output_type": "execute_result"
    }
   ],
   "source": [
    "df_btc['title'].dropna().str.split().apply(len).mean()"
   ]
  },
  {
   "cell_type": "code",
   "execution_count": 100,
   "id": "5f1e9ae9",
   "metadata": {},
   "outputs": [],
   "source": [
    "df_btc_filtered = df_btc.drop(columns=['id', 'sourceId', 'description', 'sourceUrl', 'liked', 'disliked', 'lol', 'toxic', 'saved','comments', 'url', 'negative', 'positive', 'important' ])"
   ]
  },
  {
   "cell_type": "code",
   "execution_count": 101,
   "id": "39c469b5",
   "metadata": {},
   "outputs": [
    {
     "data": {
      "text/html": [
       "<div>\n",
       "<style scoped>\n",
       "    .dataframe tbody tr th:only-of-type {\n",
       "        vertical-align: middle;\n",
       "    }\n",
       "\n",
       "    .dataframe tbody tr th {\n",
       "        vertical-align: top;\n",
       "    }\n",
       "\n",
       "    .dataframe thead th {\n",
       "        text-align: right;\n",
       "    }\n",
       "</style>\n",
       "<table border=\"1\" class=\"dataframe\">\n",
       "  <thead>\n",
       "    <tr style=\"text-align: right;\">\n",
       "      <th></th>\n",
       "      <th>title</th>\n",
       "      <th>newsDatetime</th>\n",
       "    </tr>\n",
       "  </thead>\n",
       "  <tbody>\n",
       "    <tr>\n",
       "      <th>12</th>\n",
       "      <td>TA: Bitcoin Stuck In Key Range, Why A Major Br...</td>\n",
       "      <td>2022-06-09 03:08:36</td>\n",
       "    </tr>\n",
       "    <tr>\n",
       "      <th>17</th>\n",
       "      <td>Bitcoin Trading Can Become Easier if You Follo...</td>\n",
       "      <td>2022-06-09 02:40:00</td>\n",
       "    </tr>\n",
       "    <tr>\n",
       "      <th>24</th>\n",
       "      <td>Gillibrand and Lummis state that most altcoins...</td>\n",
       "      <td>2022-06-09 01:15:34</td>\n",
       "    </tr>\n",
       "    <tr>\n",
       "      <th>32</th>\n",
       "      <td>U.S. Macro Pressure Responsible For Entire Bit...</td>\n",
       "      <td>2022-06-08 23:00:19</td>\n",
       "    </tr>\n",
       "    <tr>\n",
       "      <th>33</th>\n",
       "      <td>Shock And Awe: Bitcoin Lightning Network Capac...</td>\n",
       "      <td>2022-06-08 23:00:17</td>\n",
       "    </tr>\n",
       "  </tbody>\n",
       "</table>\n",
       "</div>"
      ],
      "text/plain": [
       "                                                title         newsDatetime\n",
       "12  TA: Bitcoin Stuck In Key Range, Why A Major Br...  2022-06-09 03:08:36\n",
       "17  Bitcoin Trading Can Become Easier if You Follo...  2022-06-09 02:40:00\n",
       "24  Gillibrand and Lummis state that most altcoins...  2022-06-09 01:15:34\n",
       "32  U.S. Macro Pressure Responsible For Entire Bit...  2022-06-08 23:00:19\n",
       "33  Shock And Awe: Bitcoin Lightning Network Capac...  2022-06-08 23:00:17"
      ]
     },
     "execution_count": 101,
     "metadata": {},
     "output_type": "execute_result"
    }
   ],
   "source": [
    "df_btc_filtered.head()"
   ]
  },
  {
   "cell_type": "markdown",
   "id": "b6b3b363",
   "metadata": {},
   "source": [
    "Now I check sentiment by a few models and compare"
   ]
  },
  {
   "cell_type": "code",
   "execution_count": 102,
   "id": "dfc7c48d",
   "metadata": {},
   "outputs": [
    {
     "name": "stderr",
     "output_type": "stream",
     "text": [
      "[nltk_data] Downloading package vader_lexicon to\n",
      "[nltk_data]     /home/master_g/nltk_data...\n",
      "[nltk_data]   Package vader_lexicon is already up-to-date!\n"
     ]
    },
    {
     "data": {
      "text/plain": [
       "True"
      ]
     },
     "execution_count": 102,
     "metadata": {},
     "output_type": "execute_result"
    }
   ],
   "source": [
    "import nltk\n",
    "\n",
    "nltk.download('vader_lexicon')"
   ]
  },
  {
   "cell_type": "code",
   "execution_count": 103,
   "id": "9f2b10b9",
   "metadata": {},
   "outputs": [],
   "source": [
    "from nltk.sentiment.vader import SentimentIntensityAnalyzer\n",
    "\n",
    "vader_analyzer = SentimentIntensityAnalyzer()"
   ]
  },
  {
   "cell_type": "code",
   "execution_count": 104,
   "id": "71deb57b",
   "metadata": {},
   "outputs": [],
   "source": [
    "df_btc_filtered['compound_vader'] = df_btc_filtered['title'].apply(lambda x: vader_analyzer.polarity_scores(x)['compound'])"
   ]
  },
  {
   "cell_type": "code",
   "execution_count": 105,
   "id": "35e1630e",
   "metadata": {},
   "outputs": [
    {
     "data": {
      "text/plain": [
       "12   -0.2500\n",
       "17    0.4215\n",
       "24    0.3535\n",
       "32    0.0258\n",
       "33   -0.3400\n",
       "34   -0.3400\n",
       "39    0.6369\n",
       "40    0.0000\n",
       "44    0.0000\n",
       "46    0.2732\n",
       "Name: compound_vader, dtype: float64"
      ]
     },
     "execution_count": 105,
     "metadata": {},
     "output_type": "execute_result"
    }
   ],
   "source": [
    "df_btc_filtered['compound_vader'].head(10)"
   ]
  },
  {
   "cell_type": "code",
   "execution_count": 106,
   "id": "03d8193d",
   "metadata": {},
   "outputs": [],
   "source": [
    "from textblob import TextBlob\n",
    "\n",
    "df_btc_filtered['compound_blob'] = df_btc_filtered['title'].apply(lambda x: TextBlob(x).sentiment.polarity)\n"
   ]
  },
  {
   "cell_type": "code",
   "execution_count": 107,
   "id": "fd81b3be",
   "metadata": {},
   "outputs": [],
   "source": [
    "from afinn import Afinn\n",
    "\n",
    "afinn = Afinn()\n",
    "df_btc_filtered['afinn_score'] = df_btc_filtered['title'].apply(lambda x: afinn.score(x))"
   ]
  },
  {
   "cell_type": "code",
   "execution_count": 108,
   "id": "2d5fdb45",
   "metadata": {},
   "outputs": [],
   "source": [
    "#Scale to see histogram with scores differences\n",
    "df_btc_filtered['afinn_scaled'] = df_btc_filtered.apply(\n",
    "    lambda row: max(min(row['afinn_score'] / len(row['title'].split()), 1), -1),\n",
    "    axis=1\n",
    ")"
   ]
  },
  {
   "cell_type": "code",
   "execution_count": 109,
   "id": "eda3d500",
   "metadata": {},
   "outputs": [
    {
     "data": {
      "image/png": "[encoded data removed]",
      "text/plain": [
       "<Figure size 1000x600 with 1 Axes>"
      ]
     },
     "metadata": {},
     "output_type": "display_data"
    }
   ],
   "source": [
    "plt.figure(figsize=(10,6))\n",
    "plt.hist(df_btc_filtered['compound_vader'], bins=30, alpha=0.5, label='VADER')\n",
    "plt.hist(df_btc_filtered['compound_blob'], bins=30, alpha=0.5, label='TextBlob')\n",
    "plt.hist(df_btc_filtered['afinn_scaled'], bins=30, alpha=0.5, label='AFINN')\n",
    "plt.xlabel('Sentiment Score')\n",
    "plt.ylabel('Frequency')\n",
    "plt.legend()\n",
    "plt.title('Histogram of Sentiment Scores')\n",
    "plt.show()"
   ]
  },
  {
   "cell_type": "code",
   "execution_count": 110,
   "id": "9aabd4b4",
   "metadata": {},
   "outputs": [],
   "source": [
    "df_btc_filtered['newsDatetime'] = pd.to_datetime(df_btc_filtered['newsDatetime'])\n",
    "\n",
    "# Grupowanie dzienne i obliczanie średniego sentymentu\n",
    "daily_sentiment = (\n",
    "    df_btc_filtered\n",
    "    .assign(Date=df_btc_filtered['newsDatetime'].dt.floor('D'))\n",
    "    .groupby('Date')[['compound_vader', 'compound_blob', 'afinn_scaled']]\n",
    "    .mean()\n",
    "    .reset_index()\n",
    ")"
   ]
  },
  {
   "cell_type": "code",
   "execution_count": 111,
   "id": "1a175382",
   "metadata": {},
   "outputs": [
    {
     "name": "stderr",
     "output_type": "stream",
     "text": [
      "[*********************100%***********************]  1 of 1 completed\n"
     ]
    }
   ],
   "source": [
    "import yfinance as yf\n",
    "\n",
    "btc_data = yf.download('BTC-USD', start='2020-01-01', end='2025-05-21', interval='1d')\n",
    "btc_data.reset_index(inplace=True)  \n",
    "btc_data['Date'] = btc_data['Date'].dt.date  "
   ]
  },
  {
   "cell_type": "code",
   "execution_count": 112,
   "id": "9db3b340",
   "metadata": {},
   "outputs": [
    {
     "data": {
      "text/html": [
       "<div>\n",
       "<style scoped>\n",
       "    .dataframe tbody tr th:only-of-type {\n",
       "        vertical-align: middle;\n",
       "    }\n",
       "\n",
       "    .dataframe tbody tr th {\n",
       "        vertical-align: top;\n",
       "    }\n",
       "\n",
       "    .dataframe thead tr th {\n",
       "        text-align: left;\n",
       "    }\n",
       "</style>\n",
       "<table border=\"1\" class=\"dataframe\">\n",
       "  <thead>\n",
       "    <tr>\n",
       "      <th>Price</th>\n",
       "      <th>Date</th>\n",
       "      <th>Close</th>\n",
       "      <th>High</th>\n",
       "      <th>Low</th>\n",
       "      <th>Open</th>\n",
       "      <th>Volume</th>\n",
       "    </tr>\n",
       "    <tr>\n",
       "      <th>Ticker</th>\n",
       "      <th></th>\n",
       "      <th>BTC-USD</th>\n",
       "      <th>BTC-USD</th>\n",
       "      <th>BTC-USD</th>\n",
       "      <th>BTC-USD</th>\n",
       "      <th>BTC-USD</th>\n",
       "    </tr>\n",
       "  </thead>\n",
       "  <tbody>\n",
       "    <tr>\n",
       "      <th>0</th>\n",
       "      <td>2020-01-01</td>\n",
       "      <td>7200.174316</td>\n",
       "      <td>7254.330566</td>\n",
       "      <td>7174.944336</td>\n",
       "      <td>7194.892090</td>\n",
       "      <td>18565664997</td>\n",
       "    </tr>\n",
       "    <tr>\n",
       "      <th>1</th>\n",
       "      <td>2020-01-02</td>\n",
       "      <td>6985.470215</td>\n",
       "      <td>7212.155273</td>\n",
       "      <td>6935.270020</td>\n",
       "      <td>7202.551270</td>\n",
       "      <td>20802083465</td>\n",
       "    </tr>\n",
       "    <tr>\n",
       "      <th>2</th>\n",
       "      <td>2020-01-03</td>\n",
       "      <td>7344.884277</td>\n",
       "      <td>7413.715332</td>\n",
       "      <td>6914.996094</td>\n",
       "      <td>6984.428711</td>\n",
       "      <td>28111481032</td>\n",
       "    </tr>\n",
       "    <tr>\n",
       "      <th>3</th>\n",
       "      <td>2020-01-04</td>\n",
       "      <td>7410.656738</td>\n",
       "      <td>7427.385742</td>\n",
       "      <td>7309.514160</td>\n",
       "      <td>7345.375488</td>\n",
       "      <td>18444271275</td>\n",
       "    </tr>\n",
       "    <tr>\n",
       "      <th>4</th>\n",
       "      <td>2020-01-05</td>\n",
       "      <td>7411.317383</td>\n",
       "      <td>7544.497070</td>\n",
       "      <td>7400.535645</td>\n",
       "      <td>7410.451660</td>\n",
       "      <td>19725074095</td>\n",
       "    </tr>\n",
       "    <tr>\n",
       "      <th>...</th>\n",
       "      <td>...</td>\n",
       "      <td>...</td>\n",
       "      <td>...</td>\n",
       "      <td>...</td>\n",
       "      <td>...</td>\n",
       "      <td>...</td>\n",
       "    </tr>\n",
       "    <tr>\n",
       "      <th>1961</th>\n",
       "      <td>2025-05-15</td>\n",
       "      <td>103744.640625</td>\n",
       "      <td>104153.617188</td>\n",
       "      <td>101440.812500</td>\n",
       "      <td>103538.828125</td>\n",
       "      <td>50408241840</td>\n",
       "    </tr>\n",
       "    <tr>\n",
       "      <th>1962</th>\n",
       "      <td>2025-05-16</td>\n",
       "      <td>103489.289062</td>\n",
       "      <td>104533.484375</td>\n",
       "      <td>103137.476562</td>\n",
       "      <td>103735.656250</td>\n",
       "      <td>44386499364</td>\n",
       "    </tr>\n",
       "    <tr>\n",
       "      <th>1963</th>\n",
       "      <td>2025-05-17</td>\n",
       "      <td>103191.085938</td>\n",
       "      <td>103716.945312</td>\n",
       "      <td>102659.179688</td>\n",
       "      <td>103489.289062</td>\n",
       "      <td>37898552742</td>\n",
       "    </tr>\n",
       "    <tr>\n",
       "      <th>1964</th>\n",
       "      <td>2025-05-18</td>\n",
       "      <td>106446.007812</td>\n",
       "      <td>106597.171875</td>\n",
       "      <td>103142.601562</td>\n",
       "      <td>103186.953125</td>\n",
       "      <td>49887082058</td>\n",
       "    </tr>\n",
       "    <tr>\n",
       "      <th>1965</th>\n",
       "      <td>2025-05-19</td>\n",
       "      <td>105606.179688</td>\n",
       "      <td>107068.718750</td>\n",
       "      <td>102112.687500</td>\n",
       "      <td>106430.531250</td>\n",
       "      <td>61761126647</td>\n",
       "    </tr>\n",
       "  </tbody>\n",
       "</table>\n",
       "<p>1966 rows × 6 columns</p>\n",
       "</div>"
      ],
      "text/plain": [
       "Price         Date          Close           High            Low  \\\n",
       "Ticker                    BTC-USD        BTC-USD        BTC-USD   \n",
       "0       2020-01-01    7200.174316    7254.330566    7174.944336   \n",
       "1       2020-01-02    6985.470215    7212.155273    6935.270020   \n",
       "2       2020-01-03    7344.884277    7413.715332    6914.996094   \n",
       "3       2020-01-04    7410.656738    7427.385742    7309.514160   \n",
       "4       2020-01-05    7411.317383    7544.497070    7400.535645   \n",
       "...            ...            ...            ...            ...   \n",
       "1961    2025-05-15  103744.640625  104153.617188  101440.812500   \n",
       "1962    2025-05-16  103489.289062  104533.484375  103137.476562   \n",
       "1963    2025-05-17  103191.085938  103716.945312  102659.179688   \n",
       "1964    2025-05-18  106446.007812  106597.171875  103142.601562   \n",
       "1965    2025-05-19  105606.179688  107068.718750  102112.687500   \n",
       "\n",
       "Price            Open       Volume  \n",
       "Ticker        BTC-USD      BTC-USD  \n",
       "0         7194.892090  18565664997  \n",
       "1         7202.551270  20802083465  \n",
       "2         6984.428711  28111481032  \n",
       "3         7345.375488  18444271275  \n",
       "4         7410.451660  19725074095  \n",
       "...               ...          ...  \n",
       "1961    103538.828125  50408241840  \n",
       "1962    103735.656250  44386499364  \n",
       "1963    103489.289062  37898552742  \n",
       "1964    103186.953125  49887082058  \n",
       "1965    106430.531250  61761126647  \n",
       "\n",
       "[1966 rows x 6 columns]"
      ]
     },
     "execution_count": 112,
     "metadata": {},
     "output_type": "execute_result"
    }
   ],
   "source": [
    "btc_data.head(-1)"
   ]
  },
  {
   "cell_type": "code",
   "execution_count": 113,
   "id": "a8f64904",
   "metadata": {},
   "outputs": [],
   "source": [
    "btc_data = btc_data[['Date', 'Close', 'Volume']]\n",
    "btc_data.columns = btc_data.columns.get_level_values(0)"
   ]
  },
  {
   "cell_type": "code",
   "execution_count": 114,
   "id": "9dccbef3",
   "metadata": {},
   "outputs": [
    {
     "name": "stdout",
     "output_type": "stream",
     "text": [
      "0    2020-01-01\n",
      "1    2020-01-02\n",
      "2    2020-01-03\n",
      "3    2020-01-04\n",
      "4    2020-01-05\n",
      "Name: Date, dtype: object\n",
      "object\n"
     ]
    }
   ],
   "source": [
    "print(btc_data['Date'].head())\n",
    "print(btc_data['Date'].dtype)\n"
   ]
  },
  {
   "cell_type": "code",
   "execution_count": 115,
   "id": "55f43fbb",
   "metadata": {},
   "outputs": [],
   "source": [
    "btc_data['Date'] = pd.to_datetime(btc_data['Date'])"
   ]
  },
  {
   "cell_type": "code",
   "execution_count": 116,
   "id": "cbddb04c",
   "metadata": {},
   "outputs": [],
   "source": [
    "start_date = pd.Timestamp(2021, 1, 1)\n",
    "end_date = pd.Timestamp(2025, 4, 1)\n",
    "\n",
    "# Filtrowanie\n",
    "daily_sentiment = daily_sentiment[(daily_sentiment['Date'] >= start_date) & (daily_sentiment['Date'] <= end_date)]\n",
    "btc_data_filtered = btc_data[(btc_data['Date'] >= start_date) & (btc_data['Date'] <= end_date)]"
   ]
  },
  {
   "cell_type": "code",
   "execution_count": 117,
   "id": "524c8b22",
   "metadata": {},
   "outputs": [],
   "source": [
    "results = pd.merge(daily_sentiment, btc_data_filtered, how='left', on='Date')"
   ]
  },
  {
   "cell_type": "code",
   "execution_count": 118,
   "id": "3f9065aa",
   "metadata": {},
   "outputs": [
    {
     "data": {
      "text/html": [
       "<div>\n",
       "<style scoped>\n",
       "    .dataframe tbody tr th:only-of-type {\n",
       "        vertical-align: middle;\n",
       "    }\n",
       "\n",
       "    .dataframe tbody tr th {\n",
       "        vertical-align: top;\n",
       "    }\n",
       "\n",
       "    .dataframe thead th {\n",
       "        text-align: right;\n",
       "    }\n",
       "</style>\n",
       "<table border=\"1\" class=\"dataframe\">\n",
       "  <thead>\n",
       "    <tr style=\"text-align: right;\">\n",
       "      <th></th>\n",
       "      <th>Date</th>\n",
       "      <th>compound_vader</th>\n",
       "      <th>compound_blob</th>\n",
       "      <th>afinn_scaled</th>\n",
       "      <th>Close</th>\n",
       "      <th>Volume</th>\n",
       "    </tr>\n",
       "  </thead>\n",
       "  <tbody>\n",
       "    <tr>\n",
       "      <th>0</th>\n",
       "      <td>2021-01-03</td>\n",
       "      <td>0.000000</td>\n",
       "      <td>0.000000</td>\n",
       "      <td>0.000000</td>\n",
       "      <td>32782.023438</td>\n",
       "      <td>78665235202</td>\n",
       "    </tr>\n",
       "    <tr>\n",
       "      <th>1</th>\n",
       "      <td>2021-01-04</td>\n",
       "      <td>-0.238350</td>\n",
       "      <td>-0.250000</td>\n",
       "      <td>-0.083333</td>\n",
       "      <td>31971.914062</td>\n",
       "      <td>81163475344</td>\n",
       "    </tr>\n",
       "    <tr>\n",
       "      <th>2</th>\n",
       "      <td>2021-01-05</td>\n",
       "      <td>0.484700</td>\n",
       "      <td>0.000000</td>\n",
       "      <td>0.085714</td>\n",
       "      <td>33992.429688</td>\n",
       "      <td>67547324782</td>\n",
       "    </tr>\n",
       "    <tr>\n",
       "      <th>3</th>\n",
       "      <td>2021-01-06</td>\n",
       "      <td>0.000000</td>\n",
       "      <td>0.062500</td>\n",
       "      <td>0.000000</td>\n",
       "      <td>36824.363281</td>\n",
       "      <td>75289433811</td>\n",
       "    </tr>\n",
       "    <tr>\n",
       "      <th>4</th>\n",
       "      <td>2021-01-07</td>\n",
       "      <td>0.000000</td>\n",
       "      <td>0.000000</td>\n",
       "      <td>0.000000</td>\n",
       "      <td>39371.042969</td>\n",
       "      <td>84762141031</td>\n",
       "    </tr>\n",
       "    <tr>\n",
       "      <th>...</th>\n",
       "      <td>...</td>\n",
       "      <td>...</td>\n",
       "      <td>...</td>\n",
       "      <td>...</td>\n",
       "      <td>...</td>\n",
       "      <td>...</td>\n",
       "    </tr>\n",
       "    <tr>\n",
       "      <th>1469</th>\n",
       "      <td>2025-03-27</td>\n",
       "      <td>0.013839</td>\n",
       "      <td>0.060136</td>\n",
       "      <td>-0.025574</td>\n",
       "      <td>87177.101562</td>\n",
       "      <td>24413471941</td>\n",
       "    </tr>\n",
       "    <tr>\n",
       "      <th>1470</th>\n",
       "      <td>2025-03-28</td>\n",
       "      <td>0.046178</td>\n",
       "      <td>0.089929</td>\n",
       "      <td>0.026645</td>\n",
       "      <td>84353.148438</td>\n",
       "      <td>34198619509</td>\n",
       "    </tr>\n",
       "    <tr>\n",
       "      <th>1471</th>\n",
       "      <td>2025-03-29</td>\n",
       "      <td>0.107085</td>\n",
       "      <td>0.079932</td>\n",
       "      <td>0.057961</td>\n",
       "      <td>82597.585938</td>\n",
       "      <td>16969396135</td>\n",
       "    </tr>\n",
       "    <tr>\n",
       "      <th>1472</th>\n",
       "      <td>2025-03-30</td>\n",
       "      <td>-0.010771</td>\n",
       "      <td>0.126020</td>\n",
       "      <td>0.020833</td>\n",
       "      <td>82334.523438</td>\n",
       "      <td>14763760943</td>\n",
       "    </tr>\n",
       "    <tr>\n",
       "      <th>1473</th>\n",
       "      <td>2025-03-31</td>\n",
       "      <td>0.015836</td>\n",
       "      <td>0.055086</td>\n",
       "      <td>0.016496</td>\n",
       "      <td>82548.914062</td>\n",
       "      <td>29004228247</td>\n",
       "    </tr>\n",
       "  </tbody>\n",
       "</table>\n",
       "<p>1474 rows × 6 columns</p>\n",
       "</div>"
      ],
      "text/plain": [
       "           Date  compound_vader  compound_blob  afinn_scaled         Close  \\\n",
       "0    2021-01-03        0.000000       0.000000      0.000000  32782.023438   \n",
       "1    2021-01-04       -0.238350      -0.250000     -0.083333  31971.914062   \n",
       "2    2021-01-05        0.484700       0.000000      0.085714  33992.429688   \n",
       "3    2021-01-06        0.000000       0.062500      0.000000  36824.363281   \n",
       "4    2021-01-07        0.000000       0.000000      0.000000  39371.042969   \n",
       "...         ...             ...            ...           ...           ...   \n",
       "1469 2025-03-27        0.013839       0.060136     -0.025574  87177.101562   \n",
       "1470 2025-03-28        0.046178       0.089929      0.026645  84353.148438   \n",
       "1471 2025-03-29        0.107085       0.079932      0.057961  82597.585938   \n",
       "1472 2025-03-30       -0.010771       0.126020      0.020833  82334.523438   \n",
       "1473 2025-03-31        0.015836       0.055086      0.016496  82548.914062   \n",
       "\n",
       "           Volume  \n",
       "0     78665235202  \n",
       "1     81163475344  \n",
       "2     67547324782  \n",
       "3     75289433811  \n",
       "4     84762141031  \n",
       "...           ...  \n",
       "1469  24413471941  \n",
       "1470  34198619509  \n",
       "1471  16969396135  \n",
       "1472  14763760943  \n",
       "1473  29004228247  \n",
       "\n",
       "[1474 rows x 6 columns]"
      ]
     },
     "execution_count": 118,
     "metadata": {},
     "output_type": "execute_result"
    }
   ],
   "source": [
    "results.head(-1)"
   ]
  },
  {
   "cell_type": "code",
   "execution_count": 119,
   "id": "0943fedf",
   "metadata": {},
   "outputs": [
    {
     "name": "stderr",
     "output_type": "stream",
     "text": [
      "/tmp/ipykernel_2732/4182457309.py:4: FutureWarning: 'M' is deprecated and will be removed in a future version, please use 'ME' instead.\n",
      "  .resample('M')\n"
     ]
    }
   ],
   "source": [
    "monthly = (\n",
    "    results\n",
    "      .set_index('Date')            \n",
    "      .resample('M')                \n",
    "      .mean()[['compound_vader', 'compound_blob', 'afinn_scaled', 'Close']]\n",
    "      .reset_index()\n",
    ")\n",
    "\n"
   ]
  },
  {
   "cell_type": "code",
   "execution_count": 120,
   "id": "9e3b00de",
   "metadata": {},
   "outputs": [
    {
     "data": {
      "image/png": "[encoded data removed]",
      "text/plain": [
       "<Figure size 1400x1200 with 6 Axes>"
      ]
     },
     "metadata": {},
     "output_type": "display_data"
    }
   ],
   "source": [
    "fig, axs = plt.subplots(3, 1, figsize=(14, 12), sharex=True)\n",
    "\n",
    "models = [\n",
    "    ('compound_vader', 'VADER'),\n",
    "    ('compound_blob', 'TextBlob'),\n",
    "    ('afinn_scaled', 'AFINN')\n",
    "]\n",
    "\n",
    "for ax, (col, label) in zip(axs, models):\n",
    "    # Cena BTC\n",
    "    ax_price = ax.twinx()\n",
    "    ax_price.plot(monthly['Date'], monthly['Close'], color='royalblue', linewidth=2, label='BTC – mies. średnia')\n",
    "    ax_price.set_ylabel('BTC price (USD)', color='royalblue')\n",
    "    ax_price.tick_params(axis='y', labelcolor='royalblue')\n",
    "    \n",
    "    # Słupki sentymentu\n",
    "    pos = monthly[monthly[col] >= 0]\n",
    "    neg = monthly[monthly[col] < 0]\n",
    "    bar_width = 20\n",
    "    ax.bar(pos['Date'], pos[col], color='limegreen', width=bar_width, alpha=0.6, label=f'{label} +')\n",
    "    ax.bar(neg['Date'], neg[col], color='crimson', width=bar_width, alpha=0.6, label=f'{label} -')\n",
    "    \n",
    "    ax.set_ylabel(f'{label} sentiment')\n",
    "    ax.set_ylim(-1, 1)\n",
    "    ax.legend(loc='upper left')\n",
    "\n",
    "axs[-1].set_xlabel('Date')\n",
    "plt.tight_layout()\n",
    "plt.show()\n"
   ]
  }
 ],
 "metadata": {
  "kernelspec": {
   "display_name": "myenv_311",
   "language": "python",
   "name": "python3"
  },
  "language_info": {
   "codemirror_mode": {
    "name": "ipython",
    "version": 3
   },
   "file_extension": ".py",
   "mimetype": "text/x-python",
   "name": "python",
   "nbconvert_exporter": "python",
   "pygments_lexer": "ipython3",
   "version": "3.11.12"
  }
 },
 "nbformat": 4,
 "nbformat_minor": 5
}
